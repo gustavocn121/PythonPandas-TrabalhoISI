{
 "cells": [
  {
   "cell_type": "code",
   "execution_count": 34,
   "metadata": {},
   "outputs": [],
   "source": [
    "import pandas as pd"
   ]
  },
  {
   "cell_type": "code",
   "execution_count": 35,
   "metadata": {},
   "outputs": [],
   "source": [
    "df = pd.read_csv('../data/data.csv', sep=',')"
   ]
  },
  {
   "cell_type": "code",
   "execution_count": 36,
   "metadata": {},
   "outputs": [],
   "source": [
    "\n",
    "df17 = df[df.Year == 2017]\n",
    "df18 = df[df.Year == 2018]\n",
    "df19 = df[df.Year == 2019]\n",
    "df20 = df[df.Year == 2020]\n",
    "df21 = df[df.Year == 2021]\n",
    "df_ano = [df17,df18, df19, df20, df21]"
   ]
  },
  {
   "cell_type": "code",
   "execution_count": 37,
   "metadata": {},
   "outputs": [
    {
     "data": {
      "text/plain": [
       "{'2017': ['pop',\n",
       "  'rap',\n",
       "  'uk pop',\n",
       "  'reggaeton colombiano',\n",
       "  'toronto rap',\n",
       "  'tropical house',\n",
       "  'pop rap',\n",
       "  'canadian pop',\n",
       "  'modern rock',\n",
       "  'pop dance'],\n",
       " '2018': ['pop',\n",
       "  'rap',\n",
       "  'miami hip hop',\n",
       "  'uk pop',\n",
       "  'dfw rap',\n",
       "  'melodic rap',\n",
       "  'reggaeton colombiano',\n",
       "  'toronto rap',\n",
       "  'pop rap',\n",
       "  'puerto rican pop'],\n",
       " '2019': ['pop',\n",
       "  'melodic rap',\n",
       "  'uk pop',\n",
       "  'dfw rap',\n",
       "  'rap',\n",
       "  'trap latino',\n",
       "  'reggaeton colombiano',\n",
       "  'miami hip hop',\n",
       "  'pop rap',\n",
       "  'glam rock'],\n",
       " '2020': ['pop',\n",
       "  'melodic rap',\n",
       "  'trap latino',\n",
       "  'uk pop',\n",
       "  'reggaeton colombiano',\n",
       "  'canadian pop',\n",
       "  'slap house',\n",
       "  'pop rap',\n",
       "  'dfw rap',\n",
       "  'puerto rican pop'],\n",
       " '2021': ['pop',\n",
       "  'reggaeton colombiano',\n",
       "  'uk pop',\n",
       "  'melodic rap',\n",
       "  'canadian pop',\n",
       "  'trap latino',\n",
       "  'slap house',\n",
       "  'pop rap',\n",
       "  'brooklyn drill',\n",
       "  'puerto rican pop']}"
      ]
     },
     "execution_count": 37,
     "metadata": {},
     "output_type": "execute_result"
    }
   ],
   "source": [
    "df17.groupby('Genre').size().sort_values(ascending=False).head(10).index\n",
    "\n",
    "\n",
    "data = {}\n",
    "c=0\n",
    "for j in df_ano:\n",
    "    ano = 2017 + c\n",
    "    lista = []\n",
    "    for i in range(10):\n",
    "        lista.append(j.groupby('Genre').size().sort_values(ascending=False).head(10).index[i])\n",
    "    data[str(ano)] = lista\n",
    "    c+=1\n",
    "data"
   ]
  },
  {
   "cell_type": "code",
   "execution_count": 44,
   "metadata": {},
   "outputs": [
    {
     "ename": "TypeError",
     "evalue": "'method' object is not iterable",
     "output_type": "error",
     "traceback": [
      "\u001b[1;31m---------------------------------------------------------------------------\u001b[0m",
      "\u001b[1;31mTypeError\u001b[0m                                 Traceback (most recent call last)",
      "\u001b[1;32m~\\AppData\\Local\\Temp/ipykernel_15844/3751566586.py\u001b[0m in \u001b[0;36m<module>\u001b[1;34m\u001b[0m\n\u001b[0;32m      1\u001b[0m \u001b[0mdataFrame\u001b[0m \u001b[1;33m=\u001b[0m \u001b[0mpd\u001b[0m\u001b[1;33m.\u001b[0m\u001b[0mDataFrame\u001b[0m\u001b[1;33m.\u001b[0m\u001b[0mfrom_dict\u001b[0m\u001b[1;33m(\u001b[0m\u001b[0mdata\u001b[0m\u001b[1;33m)\u001b[0m\u001b[1;33m\u001b[0m\u001b[1;33m\u001b[0m\u001b[0m\n\u001b[0;32m      2\u001b[0m \u001b[0mdct\u001b[0m \u001b[1;33m=\u001b[0m \u001b[1;33m{\u001b[0m\u001b[1;33m}\u001b[0m\u001b[1;33m\u001b[0m\u001b[1;33m\u001b[0m\u001b[0m\n\u001b[1;32m----> 3\u001b[1;33m \u001b[1;32mfor\u001b[0m \u001b[0mindex\u001b[0m\u001b[1;33m,\u001b[0m \u001b[0mrow\u001b[0m \u001b[1;32min\u001b[0m \u001b[0mdataFrame\u001b[0m\u001b[1;33m.\u001b[0m\u001b[0miterrows\u001b[0m\u001b[1;33m:\u001b[0m\u001b[1;33m\u001b[0m\u001b[1;33m\u001b[0m\u001b[0m\n\u001b[0m\u001b[0;32m      4\u001b[0m     \u001b[0mdct\u001b[0m\u001b[1;33m[\u001b[0m\u001b[0mrow\u001b[0m\u001b[1;33m[\u001b[0m\u001b[1;34m'2017'\u001b[0m\u001b[1;33m]\u001b[0m\u001b[1;33m]\u001b[0m \u001b[1;33m=\u001b[0m \u001b[1;34m''\u001b[0m\u001b[1;33m\u001b[0m\u001b[1;33m\u001b[0m\u001b[0m\n\u001b[0;32m      5\u001b[0m     \u001b[0mdct\u001b[0m\u001b[1;33m[\u001b[0m\u001b[0mrow\u001b[0m\u001b[1;33m[\u001b[0m\u001b[1;34m'2018'\u001b[0m\u001b[1;33m]\u001b[0m\u001b[1;33m]\u001b[0m \u001b[1;33m=\u001b[0m \u001b[1;34m''\u001b[0m\u001b[1;33m\u001b[0m\u001b[1;33m\u001b[0m\u001b[0m\n",
      "\u001b[1;31mTypeError\u001b[0m: 'method' object is not iterable"
     ]
    }
   ],
   "source": [
    "dataFrame = pd.DataFrame.from_dict(data)\n",
    "dct = {}\n",
    "for index, row in dataFrame.iterrows:\n",
    "    dct[row['2017']] = ''\n",
    "    dct[row['2018']] = ''\n",
    "    dct[row['2019']] = ''\n",
    "    dct[row['2020']] = ''\n",
    "    dct[row['2021']] = ''\n",
    "\n",
    "dct"
   ]
  },
  {
   "cell_type": "code",
   "execution_count": null,
   "metadata": {},
   "outputs": [],
   "source": []
  }
 ],
 "metadata": {
  "interpreter": {
   "hash": "ac59ebe37160ed0dfa835113d9b8498d9f09ceb179beaac4002f036b9467c963"
  },
  "kernelspec": {
   "display_name": "Python 3.9.6 64-bit",
   "name": "python3"
  },
  "language_info": {
   "codemirror_mode": {
    "name": "ipython",
    "version": 3
   },
   "file_extension": ".py",
   "mimetype": "text/x-python",
   "name": "python",
   "nbconvert_exporter": "python",
   "pygments_lexer": "ipython3",
   "version": "3.9.6"
  },
  "orig_nbformat": 4
 },
 "nbformat": 4,
 "nbformat_minor": 2
}
